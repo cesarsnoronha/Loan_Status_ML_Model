{
 "cells": [
  {
   "cell_type": "code",
   "execution_count": 4,
   "metadata": {},
   "outputs": [],
   "source": [
    "import pandas as pd\n",
    "import pyodbc\n",
    "\n",
    "# Import CSV\n",
    "data = pd.read_csv (r'/Users/Cesar-mac/Desktop/Projeto_analise_credito/main/datasets/raw/train_u6lujuX_CVtuZ9i.csv')   \n",
    "df = pd.DataFrame(data)\n"
   ]
  },
  {
   "cell_type": "code",
   "execution_count": 9,
   "metadata": {},
   "outputs": [
    {
     "ename": "Error",
     "evalue": "('01000', \"[01000] [unixODBC][Driver Manager]Can't open lib 'SQL Server' : file not found (0) (SQLDriverConnect)\")",
     "output_type": "error",
     "traceback": [
      "\u001b[0;31m---------------------------------------------------------------------------\u001b[0m",
      "\u001b[0;31mError\u001b[0m                                     Traceback (most recent call last)",
      "Cell \u001b[0;32mIn[9], line 4\u001b[0m\n\u001b[1;32m      1\u001b[0m \u001b[39m# Connect to SQL Server\u001b[39;00m\n\u001b[1;32m      2\u001b[0m \u001b[39mimport\u001b[39;00m \u001b[39mpyodbc\u001b[39;00m\n\u001b[0;32m----> 4\u001b[0m conn \u001b[39m=\u001b[39m pyodbc\u001b[39m.\u001b[39;49mconnect(\u001b[39m'\u001b[39;49m\u001b[39mDriver=\u001b[39;49m\u001b[39m{\u001b[39;49m\u001b[39mSQL Server};\u001b[39;49m\u001b[39m'\u001b[39;49m\n\u001b[1;32m      5\u001b[0m                       \u001b[39m'\u001b[39;49m\u001b[39mServer=server_name;\u001b[39;49m\u001b[39m'\u001b[39;49m\n\u001b[1;32m      6\u001b[0m                       \u001b[39m'\u001b[39;49m\u001b[39mDatabase=database_name;\u001b[39;49m\u001b[39m'\u001b[39;49m\n\u001b[1;32m      7\u001b[0m                       \u001b[39m'\u001b[39;49m\u001b[39mTrusted_Connection=yes;\u001b[39;49m\u001b[39m'\u001b[39;49m)\n\u001b[1;32m      8\u001b[0m cursor \u001b[39m=\u001b[39m conn\u001b[39m.\u001b[39mcursor()\n",
      "\u001b[0;31mError\u001b[0m: ('01000', \"[01000] [unixODBC][Driver Manager]Can't open lib 'SQL Server' : file not found (0) (SQLDriverConnect)\")"
     ]
    }
   ],
   "source": [
    "# Connect to SQL Server\n",
    "import pyodbc\n",
    "\n",
    "conn = pyodbc.connect('Driver={SQL Server};'\n",
    "                      'Server=server_name;'\n",
    "                      'Database=database_name;'\n",
    "                      'Trusted_Connection=yes;')\n",
    "cursor = conn.cursor()"
   ]
  },
  {
   "cell_type": "markdown",
   "metadata": {},
   "source": [
    "# Create Table\n",
    "cursor.execute('''\n",
    "\t\tCREATE TABLE subjects (\n",
    "\t\t\tLoan_ID int primary key,\n",
    "\t\t\tGender nvarchar(10),\n",
    "\t\t\tMarried nvarchar(10),\n",
    "\t\t\tDependents int,\n",
    "\t\t\tEducation nvarchar(30),\n",
    "\t\t\tSelf_Employed nvarchar(10),\n",
    "\t\t\tApplicantIncome int,\n",
    "\t\t\tCoapplicantIncome int,\n",
    "\t\t\tLoanAmount int,\n",
    "\t\t\tLoan_Amount_Term int,\n",
    "\t\t\tCredit_History nvarchar(10),\n",
    "\t\t\tProperty_Area nvarchar(30),\n",
    "\t\t\tLoan_Status nvarchar(10)\n",
    "\t\t\t)\n",
    "               ''')"
   ]
  },
  {
   "cell_type": "code",
   "execution_count": null,
   "metadata": {},
   "outputs": [],
   "source": [
    "# Insert DataFrame to Table\n",
    "for row in df.itertuples():\n",
    "    cursor.execute('''\n",
    "                INSERT INTO products (product_id, product_name, price)\n",
    "                VALUES (?,?,?)\n",
    "                ''',\n",
    "                row.product_id, \n",
    "                row.product_name,\n",
    "                row.price\n",
    "                )\n",
    "conn.commit()"
   ]
  }
 ],
 "metadata": {
  "kernelspec": {
   "display_name": "Python 3.10.6 ('.grupo-01-venv')",
   "language": "python",
   "name": "python3"
  },
  "language_info": {
   "codemirror_mode": {
    "name": "ipython",
    "version": 3
   },
   "file_extension": ".py",
   "mimetype": "text/x-python",
   "name": "python",
   "nbconvert_exporter": "python",
   "pygments_lexer": "ipython3",
   "version": "3.10.6"
  },
  "orig_nbformat": 4,
  "vscode": {
   "interpreter": {
    "hash": "c444e14e294a5f7513c8be7a227cd449505b541afc957d18c06c9dc1cf4fc5f8"
   }
  }
 },
 "nbformat": 4,
 "nbformat_minor": 2
}
