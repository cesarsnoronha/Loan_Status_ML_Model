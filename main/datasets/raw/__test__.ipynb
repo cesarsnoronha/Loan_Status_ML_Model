{
 "cells": [
  {
   "cell_type": "code",
   "execution_count": 6,
   "metadata": {},
   "outputs": [],
   "source": [
    "import pandas as pd\n",
    "\n",
    "\n",
    "df = pd.read_csv(\"flight_data_2018_to_2022.csv\", low_memory=False)"
   ]
  },
  {
   "cell_type": "code",
   "execution_count": null,
   "metadata": {},
   "outputs": [],
   "source": [
    "numeric_features = ['ApplicantIncome', 'CoapplicantIncome', 'LoanAmount','Loan_Amount_Term','Income', 'Dependents_cost', 'Income_after_payment',\n",
    "       'First_Income_after_payment']\n",
    "numeric_transformer = SimpleImputer(strategy=\"median\")\n",
    "\n",
    "#Exemplo de transformar a coluna não numerica com ordem para intervalo valores.\n",
    "ordinal_features = ['Dependents','Education'] #não acho que é ordinal\n",
    "ordinal_transformer = OrdinalEncoder()\n",
    "\n",
    "#Exemplo de transformar uma coluna sem ordem para numerica.\n",
    "categorical_features = ['Gender', 'Married','Self_Employed','Property_Area']\n",
    "categorical_transformer = OneHotEncoder(handle_unknown=\"ignore\")\n",
    "\n",
    "#Cria o pipeline de transformações de coluna com as informações a cima\n",
    "preprocessor = ColumnTransformer(\n",
    "    transformers=[\n",
    "        (\"num\", numeric_transformer, numeric_features),\n",
    "        (\"le\", ordinal_transformer, ordinal_features),\n",
    "        (\"ohe\", categorical_transformer, categorical_features)\n",
    "    ]\n",
    ")\n",
    "\n",
    "for model_name, model_obj in models.items():\n",
    "    model = Pipeline([\n",
    "        (\"preprocessor\", preprocessor), \n",
    "        ('scaler', StandardScaler()), #normalização\n",
    "        (\"PCA\", PCA(n_components=.95)), #PCA\n",
    "        ('clf', model_obj) #modelo de ML\n",
    "    ])\n",
    "    \n",
    "    model.fit(train_x, train_y) #treino\n",
    "    pred_y = model.predict(test_x) #previsão\n",
    "    "
   ]
  }
 ],
 "metadata": {
  "kernelspec": {
   "display_name": "Python 3.10.7 64-bit",
   "language": "python",
   "name": "python3"
  },
  "language_info": {
   "codemirror_mode": {
    "name": "ipython",
    "version": 3
   },
   "file_extension": ".py",
   "mimetype": "text/x-python",
   "name": "python",
   "nbconvert_exporter": "python",
   "pygments_lexer": "ipython3",
   "version": "3.10.7"
  },
  "orig_nbformat": 4,
  "vscode": {
   "interpreter": {
    "hash": "aee8b7b246df8f9039afb4144a1f6fd8d2ca17a180786b69acc140d282b71a49"
   }
  }
 },
 "nbformat": 4,
 "nbformat_minor": 2
}
