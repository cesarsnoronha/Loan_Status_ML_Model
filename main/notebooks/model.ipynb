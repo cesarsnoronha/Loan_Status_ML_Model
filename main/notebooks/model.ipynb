{
 "cells": [
  {
   "cell_type": "code",
   "execution_count": null,
   "metadata": {},
   "outputs": [],
   "source": []
  }
 ],
 "metadata": {
  "kernelspec": {
   "display_name": "Python 3.10.6 ('.luisdev-venv')",
   "language": "python",
   "name": "python3"
  },
  "language_info": {
   "name": "python",
   "version": "3.10.6"
  },
  "orig_nbformat": 4,
  "vscode": {
   "interpreter": {
    "hash": "c82b77a3e44885f5549d4c8f869d1d12ebe2b3e4a283596e6378616cb90f6820"
   }
  }
 },
 "nbformat": 4,
 "nbformat_minor": 2
}
